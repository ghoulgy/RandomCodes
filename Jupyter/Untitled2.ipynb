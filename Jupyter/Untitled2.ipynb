{
 "cells": [
  {
   "cell_type": "code",
   "execution_count": 1,
   "metadata": {},
   "outputs": [],
   "source": [
    "import pandas as pd\n",
    "import numpy as np\n",
    "import scipy.stats\n",
    "import sklearn\n",
    "import sklearn_crfsuite\n",
    "\n",
    "from sklearn_crfsuite import CRF, scorers, metrics\n",
    "from sklearn.model_selection import train_test_split, cross_val_score, RandomizedSearchCV\n",
    "from sklearn.metrics import make_scorer\n",
    "from itertools import chain\n",
    "\n",
    "data = pd.read_csv('ner_dataset.csv', encoding='latin1')\n",
    "data = data.fillna(method='ffill')"
   ]
  },
  {
   "cell_type": "code",
   "execution_count": 2,
   "metadata": {},
   "outputs": [],
   "source": [
    "class SentenceGetter(object):\n",
    "    def __init__(self, data):\n",
    "        self.n_sent = 1\n",
    "        self.data = data\n",
    "        self.empty = False\n",
    "        agg_func = lambda s: [(w, p, t) for w, p, t in zip(s[\"Word\"].values.tolist(),\n",
    "                                                           s[\"POS\"].values.tolist(),\n",
    "                                                            s[\"Tag\"].values.tolist())]\n",
    "        self.grouped = self.data.groupby(\"Sentence #\").apply(agg_func)\n",
    "        self.sentences = [s for s in self.grouped]\n",
    "  \n",
    "    def get_next(self):     \n",
    "        try:\n",
    "             s = self.grouped[\"Sentence: {}\".format(self.n_sent)]\n",
    "             self.n_sent += 1\n",
    "             return s\n",
    "        except:\n",
    "             return None                 "
   ]
  },
  {
   "cell_type": "code",
   "execution_count": 3,
   "metadata": {},
   "outputs": [],
   "source": [
    "getter = SentenceGetter(data)\n",
    "sentences = getter.sentences"
   ]
  },
  {
   "cell_type": "code",
   "execution_count": 4,
   "metadata": {},
   "outputs": [
    {
     "name": "stdout",
     "output_type": "stream",
     "text": [
      "Wall time: 4.06 s\n"
     ]
    }
   ],
   "source": [
    "%%time\n",
    "def word2features(sent, i):\n",
    "    word = sent[i][0]\n",
    "    postag = sent[i][1]\n",
    "    \n",
    "    features = {\n",
    "        'bias': 1.0,\n",
    "        'word.lower()': word.lower(),\n",
    "        'word[-3:]': word[-3:],\n",
    "        'word[-2:]': word[-2:],\n",
    "        'word.is_upper()': word.isupper(),\n",
    "        'word.istitle()': word.istitle(),\n",
    "        'word.isdigit()': word.isdigit(),\n",
    "        'postag': postag,\n",
    "        'postag[:2]': postag[:2]\n",
    "    }\n",
    "    \n",
    "    if i > 0:\n",
    "        word1 = sent[i-1][0]\n",
    "        postag1 = sent[i-1][1]\n",
    "        features.update({\n",
    "            '-1:word.lower()': word1.lower(),\n",
    "            '-1:word.istitle()': word1.istitle(),\n",
    "            '-1:postag': postag1,\n",
    "            '-1:postag[:2]': postag[:2]\n",
    "        })\n",
    "    else:\n",
    "        features['BOS'] = True\n",
    "    \n",
    "    if i < len(sent)-1:\n",
    "        word1 = sent[i+1][0]\n",
    "        postag1 = sent[i+1][0]\n",
    "        features.update({\n",
    "            '+1:word.lower()': word1.lower(),\n",
    "            '+1:word.istitle()': word1.istitle(),\n",
    "            '+1:postag': postag1,\n",
    "            '+1:postag[:2]': postag1[:2]\n",
    "        })\n",
    "    else:\n",
    "        features['EOS'] = True\n",
    "    \n",
    "    return features\n",
    "\n",
    "def sent2features(sent):\n",
    "    return [word2features(sent, i) for i in range(len(sent))]\n",
    "\n",
    "def sent2labels(sent):\n",
    "    return [label for token, postag, label in sent]\n",
    "\n",
    "def sent2token(sent):\n",
    "    return [token for token, postag, label in sent]\n",
    "\n",
    "X = [sent2features(s) for s in sentences]\n",
    "y = [sent2labels(s) for s in sentences]\n",
    "\n",
    "X_train, X_test, y_train, y_test = train_test_split(X, y, test_size=0.2)"
   ]
  },
  {
   "cell_type": "code",
   "execution_count": 5,
   "metadata": {},
   "outputs": [
    {
     "name": "stdout",
     "output_type": "stream",
     "text": [
      "Wall time: 3min 41s\n"
     ]
    }
   ],
   "source": [
    "%%time\n",
    "crf = CRF(\n",
    "    algorithm='lbfgs',\n",
    "    c1=0.1,\n",
    "    c2=0.1,\n",
    "    max_iterations=100,\n",
    "    all_possible_transitions=False\n",
    ")\n",
    "crf.fit(X_train, y_train)\n"
   ]
  },
  {
   "cell_type": "code",
   "execution_count": 6,
   "metadata": {},
   "outputs": [
    {
     "name": "stdout",
     "output_type": "stream",
     "text": [
      "he (O)\n",
      "made (O)\n",
      "an (O)\n",
      "appointment (O)\n",
      "with (O)\n",
      "a (O)\n",
      "plastic (O)\n",
      "surgeon (O)\n",
      "because (O)\n",
      "he (O)\n",
      "was (O)\n",
      "so (O)\n",
      "sensitive (O)\n",
      "about (O)\n",
      "his (O)\n",
      "looks (O)\n",
      ". (O)\n"
     ]
    }
   ],
   "source": [
    "# tagger = crf.tagger_\n",
    "# y_pred = [tagger.tag(xseq) for xseq in X_test]\n",
    "i = 0\n",
    "y_pred = crf.predict(X_test)\n",
    "\n",
    "for x,y in zip(y_pred[i], [x['word.lower()'] for x in X_test[i]]):\n",
    "   print(\"{0} ({1})\".format(y, x))"
   ]
  },
  {
   "cell_type": "code",
   "execution_count": 7,
   "metadata": {},
   "outputs": [
    {
     "name": "stdout",
     "output_type": "stream",
     "text": [
      "(9592, 17)\n",
      "(9592, 17)\n",
      "0.7538573811509591\n",
      "              precision    recall  f1-score   support\n",
      "\n",
      "           O      0.375     0.164     0.229        73\n",
      "       B-per      0.556     0.426     0.482        47\n",
      "       B-tim      0.971     0.957     0.964      2432\n",
      "       B-gpe      0.913     0.951     0.932      4950\n",
      "       I-tim      0.739     0.515     0.607        33\n",
      "       B-mal      0.851     0.816     0.833      3160\n",
      "       B-org      0.903     0.907     0.905      2661\n",
      "       I-mal      0.969     0.952     0.960      3468\n",
      "       I-org      0.214     0.075     0.111        40\n",
      "       I-per      0.296     0.276     0.286        29\n",
      "       B-nat      0.913     0.525     0.667        40\n",
      "       B-eve      0.841     0.832     0.837      1221\n",
      "       I-eve      0.667     0.364     0.471        11\n",
      "       I-gpe      0.836     0.829     0.833      1677\n",
      "       B-art      0.901     0.944     0.922      2103\n",
      "       I-art      0.858     0.838     0.848       859\n",
      "       I-nat      1.000     1.000     1.000      9590\n",
      "\n",
      "   micro avg      0.932     0.930     0.931     32394\n",
      "   macro avg      0.753     0.669     0.699     32394\n",
      "weighted avg      0.930     0.930     0.929     32394\n",
      " samples avg      0.942     0.940     0.936     32394\n",
      "\n"
     ]
    }
   ],
   "source": [
    "from sklearn.metrics import classification_report, accuracy_score\n",
    "from sklearn.preprocessing import MultiLabelBinarizer\n",
    "#predictions = np.array([labels[tag] for row in y_pred for tag in row])\n",
    "#truths = np.array([labels[tag] for row in y_test for tag in row])\n",
    "\n",
    "labels = crf.classes_\n",
    "\n",
    "y_predict = MultiLabelBinarizer().fit_transform(y_pred)\n",
    "y_testing = MultiLabelBinarizer().fit_transform(y_test)\n",
    "print(y_predict.shape)\n",
    "print(y_testing.shape)\n",
    "# sorted_labels = sorted(\n",
    "#     labels,\n",
    "#     key=lambda name: (name[1:], name[0])\n",
    "# )\n",
    "print(accuracy_score(y_testing, y_predict))\n",
    "print(classification_report(\n",
    "   y_testing, y_predict, \n",
    "    target_names=labels, digits=3))\n"
   ]
  }
 ],
 "metadata": {
  "kernelspec": {
   "display_name": "Python 3",
   "language": "python",
   "name": "python3"
  },
  "language_info": {
   "codemirror_mode": {
    "name": "ipython",
    "version": 3
   },
   "file_extension": ".py",
   "mimetype": "text/x-python",
   "name": "python",
   "nbconvert_exporter": "python",
   "pygments_lexer": "ipython3",
   "version": "3.7.0"
  }
 },
 "nbformat": 4,
 "nbformat_minor": 2
}
